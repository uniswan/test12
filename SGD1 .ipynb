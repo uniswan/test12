{
  "nbformat": 4,
  "nbformat_minor": 0,
  "metadata": {
    "colab": {
      "name": "Course 1.ipynb",
      "provenance": [],
      "authorship_tag": "ABX9TyP5OlVwlqwoRwKtPwUUwvJ7",
      "include_colab_link": true
    },
    "kernelspec": {
      "name": "python3",
      "display_name": "Python 3"
    }
  },
  "cells": [
    {
      "cell_type": "markdown",
      "metadata": {
        "id": "view-in-github",
        "colab_type": "text"
      },
      "source": [
        "<a href=\"https://colab.research.google.com/github/uniswan/test12/blob/master/SGD1%20.ipynb\" target=\"_parent\"><img src=\"https://colab.research.google.com/assets/colab-badge.svg\" alt=\"Open In Colab\"/></a>"
      ]
    },
    {
      "cell_type": "code",
      "metadata": {
        "id": "QIFLcdneNQda",
        "colab_type": "code",
        "colab": {}
      },
      "source": [
        "import numpy as np\n",
        "import torch\n",
        "import tensorflow as tf"
      ],
      "execution_count": 0,
      "outputs": []
    },
    {
      "cell_type": "markdown",
      "metadata": {
        "id": "5J7C-XRUe1MN",
        "colab_type": "text"
      },
      "source": [
        ""
      ]
    },
    {
      "cell_type": "code",
      "metadata": {
        "id": "ShzEn0cQNWZm",
        "colab_type": "code",
        "colab": {}
      },
      "source": [
        "def synthetic_data(w,b,num_examples):\n",
        "    x = np.random.normal(0,1,(num_examples, len(w)))\n",
        "    y = np.dot(x,w) + b\n",
        "    y += np.random.normal(0, 0.0, y.shape)\n",
        "    return x, y\n",
        "\n",
        "true_w = np.array([2,-3.4]) \n",
        "true_b = 4.2    \n",
        "features, labels = synthetic_data(true_w, true_b,1000)"
      ],
      "execution_count": 0,
      "outputs": []
    },
    {
      "cell_type": "code",
      "metadata": {
        "id": "g11AMTFpQe7E",
        "colab_type": "code",
        "colab": {}
      },
      "source": [
        "import matplotlib.pyplot as plt\n"
      ],
      "execution_count": 0,
      "outputs": []
    },
    {
      "cell_type": "code",
      "metadata": {
        "id": "5xmr4sOTP4EI",
        "colab_type": "code",
        "colab": {
          "base_uri": "https://localhost:8080/",
          "height": 52
        },
        "outputId": "4c9146a4-7832-488c-a760-3b8ba71d19cb"
      },
      "source": [
        "import torch\n",
        "import torch.nn as nn\n",
        "x,y = torch. from_numpy(features).float(), torch.from_numpy(labels).float().reshape(-1,1)\n",
        "print(x.shape, y.shape)\n",
        "\n",
        "torch.mean(x)"
      ],
      "execution_count": 60,
      "outputs": [
        {
          "output_type": "stream",
          "text": [
            "torch.Size([1000, 2]) torch.Size([1000, 1])\n"
          ],
          "name": "stdout"
        },
        {
          "output_type": "execute_result",
          "data": {
            "text/plain": [
              "tensor(-0.0127)"
            ]
          },
          "metadata": {
            "tags": []
          },
          "execution_count": 60
        }
      ]
    },
    {
      "cell_type": "code",
      "metadata": {
        "id": "sp_JKuW5RDJi",
        "colab_type": "code",
        "colab": {}
      },
      "source": [
        "from torch.utils.data import TensorDataset, DataLoader\n",
        "\n",
        "def load_array(date_arrays, batch_size, is_train = True):\n",
        "    dataset = TensorDataset(*date_arrays)\n",
        "    dataloader = DataLoader(dataset = dataset,batch_size = batch_size, shuffle= is_train)\n",
        "\n",
        "    return dataloader"
      ],
      "execution_count": 0,
      "outputs": []
    },
    {
      "cell_type": "code",
      "metadata": {
        "id": "Cp88CkPZSGc6",
        "colab_type": "code",
        "colab": {
          "base_uri": "https://localhost:8080/",
          "height": 369
        },
        "outputId": "c0393556-8e39-4e28-d50a-23f833755314"
      },
      "source": [
        "batch_size = 10\n",
        "data_iter = load_array((x,y), batch_size)\n",
        "\n",
        "for x,y in data_iter:\n",
        "    print(x)\n",
        "    print(y)\n",
        "    break"
      ],
      "execution_count": 62,
      "outputs": [
        {
          "output_type": "stream",
          "text": [
            "tensor([[ 0.4769,  1.1811],\n",
            "        [-0.6070,  0.1589],\n",
            "        [-1.2986,  0.7265],\n",
            "        [ 1.4466,  0.7487],\n",
            "        [-0.3062, -0.0453],\n",
            "        [-0.3733, -0.8406],\n",
            "        [ 0.1332, -1.2001],\n",
            "        [-0.9697,  0.2671],\n",
            "        [-1.2811,  0.8865],\n",
            "        [-0.5640,  0.3749]])\n",
            "tensor([[ 1.1380],\n",
            "        [ 2.4457],\n",
            "        [-0.8672],\n",
            "        [ 4.5476],\n",
            "        [ 3.7418],\n",
            "        [ 6.3114],\n",
            "        [ 8.5468],\n",
            "        [ 1.3525],\n",
            "        [-1.3763],\n",
            "        [ 1.7976]])\n"
          ],
          "name": "stdout"
        }
      ]
    },
    {
      "cell_type": "code",
      "metadata": {
        "id": "wJjtJp8cUZ5d",
        "colab_type": "code",
        "colab": {}
      },
      "source": [
        "class LinearRegressionModel(torch.nn.Module):\n",
        "    def __init__(self):\n",
        "        super(LinearRegressionModel, self).__init__()\n",
        "        self.layer = torch.nn.Linear(2,1,bias = True)\n",
        "\n",
        "    def forward(self, inputs):\n",
        "        outputs = self.layer(inputs)\n",
        "        return outputs\n",
        "\n",
        "model = LinearRegressionModel()"
      ],
      "execution_count": 0,
      "outputs": []
    },
    {
      "cell_type": "code",
      "metadata": {
        "id": "8ncjT8q3WHMs",
        "colab_type": "code",
        "colab": {
          "base_uri": "https://localhost:8080/",
          "height": 52
        },
        "outputId": "78001de1-e85f-497e-985f-35485bf26d26"
      },
      "source": [
        "print(model.layer.weight.data)\n",
        "print(model.layer.bias.data)"
      ],
      "execution_count": 77,
      "outputs": [
        {
          "output_type": "stream",
          "text": [
            "tensor([[-0.2937, -0.4561]])\n",
            "tensor([0.4747])\n"
          ],
          "name": "stdout"
        }
      ]
    },
    {
      "cell_type": "code",
      "metadata": {
        "id": "6e1xRB9jW5NA",
        "colab_type": "code",
        "colab": {}
      },
      "source": [
        "import torch.optim as optim\n"
      ],
      "execution_count": 0,
      "outputs": []
    },
    {
      "cell_type": "code",
      "metadata": {
        "id": "0LK5cL-eWbm1",
        "colab_type": "code",
        "colab": {}
      },
      "source": [
        "criterion = torch.nn.MSELoss(reduction='sum')\n",
        "optimizer = torch. optim.Adam(model.parameters(), lr = 0.03)\n"
      ],
      "execution_count": 0,
      "outputs": []
    },
    {
      "cell_type": "code",
      "metadata": {
        "id": "H7GvI-KMXeX4",
        "colab_type": "code",
        "colab": {
          "base_uri": "https://localhost:8080/",
          "height": 455
        },
        "outputId": "d8c4e410-62aa-4900-b5db-e4abd551fcc9"
      },
      "source": [
        "num_epochs = 10\n",
        "loss_graph = []\n",
        "loss_graph.append(criterion(model(x),y))\n",
        "\n",
        "for epoch in range(num_epochs):\n",
        "    for x, y in data_iter:\n",
        "        predict = model(x)\n",
        "        loss = criterion(predict, y)\n",
        "        optimizer.zero_grad()\n",
        "        loss.backward()\n",
        "        optimizer.step()\n",
        "    loss_epoch = criterion(model(x),y)\n",
        "    loss_graph.append(loss_epoch)\n",
        "    print(\"epoch:{}, loss:{}\".format(epoch+1, loss_epoch))\n",
        "\n",
        "plt.plot(loss_graph);\n",
        "plt.xlabel(\"epoch\") \n",
        "plt.ylabel(\"loss\")\n",
        "plt.show()   "
      ],
      "execution_count": 66,
      "outputs": [
        {
          "output_type": "stream",
          "text": [
            "epoch:1, loss:68.68400573730469\n",
            "epoch:2, loss:12.670133590698242\n",
            "epoch:3, loss:0.16057537496089935\n",
            "epoch:4, loss:0.01119290478527546\n",
            "epoch:5, loss:4.804879063158296e-05\n",
            "epoch:6, loss:1.3490564754192746e-07\n",
            "epoch:7, loss:9.824283608850237e-10\n",
            "epoch:8, loss:2.3875657007010886e-10\n",
            "epoch:9, loss:2.3076296429280774e-10\n",
            "epoch:10, loss:2.6569058064751516e-10\n"
          ],
          "name": "stdout"
        },
        {
          "output_type": "display_data",
          "data": {
            "image/png": "[encoded data removed]",
            "text/plain": [
              "<Figure size 432x288 with 1 Axes>"
            ]
          },
          "metadata": {
            "tags": [],
            "needs_background": "light"
          }
        }
      ]
    },
    {
      "cell_type": "code",
      "metadata": {
        "id": "I3tCjosIfM82",
        "colab_type": "code",
        "colab": {
          "base_uri": "https://localhost:8080/",
          "height": 70
        },
        "outputId": "32f5ff8a-20cf-4a38-c456-542a92c09ced"
      },
      "source": [
        "weight = model.layer.weight.detach().numpy()\n",
        "bias = model.layer.bias.detach().numpy()\n",
        "\n",
        "print(\"esti_w = {}\".format(weight))\n",
        "print(\"esti_b = {}\".format(bias))\n",
        "\n",
        "'''real 2, -3.4 , 4.2 very close!!'''"
      ],
      "execution_count": 67,
      "outputs": [
        {
          "output_type": "stream",
          "text": [
            "esti_w = [[ 2.        -3.3999977]]\n",
            "esti_b = [4.199995]\n"
          ],
          "name": "stdout"
        },
        {
          "output_type": "execute_result",
          "data": {
            "text/plain": [
              "'real 2, -3.4 , 4.2 very close!!'"
            ]
          },
          "metadata": {
            "tags": []
          },
          "execution_count": 67
        }
      ]
    }
  ]
}